{
 "cells": [
  {
   "cell_type": "code",
   "execution_count": 1,
   "metadata": {},
   "outputs": [],
   "source": [
    "import numpy as np\n",
    "import pandas as pd\n",
    "import sys\n",
    "import matplotlib.pyplot as plt"
   ]
  },
  {
   "cell_type": "code",
   "execution_count": 2,
   "metadata": {},
   "outputs": [
    {
     "data": {
      "text/html": [
       "<div>\n",
       "<style scoped>\n",
       "    .dataframe tbody tr th:only-of-type {\n",
       "        vertical-align: middle;\n",
       "    }\n",
       "\n",
       "    .dataframe tbody tr th {\n",
       "        vertical-align: top;\n",
       "    }\n",
       "\n",
       "    .dataframe thead th {\n",
       "        text-align: right;\n",
       "    }\n",
       "</style>\n",
       "<table border=\"1\" class=\"dataframe\">\n",
       "  <thead>\n",
       "    <tr style=\"text-align: right;\">\n",
       "      <th></th>\n",
       "      <th>id</th>\n",
       "      <th>brand</th>\n",
       "      <th>categories</th>\n",
       "      <th>dateAdded</th>\n",
       "      <th>dateUpdated</th>\n",
       "      <th>ean</th>\n",
       "      <th>keys</th>\n",
       "      <th>manufacturer</th>\n",
       "      <th>manufacturerNumber</th>\n",
       "      <th>name</th>\n",
       "      <th>...</th>\n",
       "      <th>reviews.id</th>\n",
       "      <th>reviews.numHelpful</th>\n",
       "      <th>reviews.rating</th>\n",
       "      <th>reviews.sourceURLs</th>\n",
       "      <th>reviews.text</th>\n",
       "      <th>reviews.title</th>\n",
       "      <th>reviews.userCity</th>\n",
       "      <th>reviews.userProvince</th>\n",
       "      <th>reviews.username</th>\n",
       "      <th>upc</th>\n",
       "    </tr>\n",
       "  </thead>\n",
       "  <tbody>\n",
       "    <tr>\n",
       "      <th>0</th>\n",
       "      <td>AV13O1A8GV-KLJ3akUyj</td>\n",
       "      <td>Universal Music</td>\n",
       "      <td>Movies, Music &amp; Books,Music,R&amp;b,Movies &amp; TV,Mo...</td>\n",
       "      <td>2017-07-25T00:52:42Z</td>\n",
       "      <td>2018-02-05T08:36:58Z</td>\n",
       "      <td>6.02537E+11</td>\n",
       "      <td>602537205981,universalmusic/14331328,universal...</td>\n",
       "      <td>Universal Music Group / Cash Money</td>\n",
       "      <td>14331328</td>\n",
       "      <td>Pink Friday: Roman Reloaded Re-Up (w/dvd)</td>\n",
       "      <td>...</td>\n",
       "      <td>NaN</td>\n",
       "      <td>0.0</td>\n",
       "      <td>5</td>\n",
       "      <td>https://redsky.target.com/groot-domain-api/v1/...</td>\n",
       "      <td>i love this album. it's very good. more to the...</td>\n",
       "      <td>Just Awesome</td>\n",
       "      <td>Los Angeles</td>\n",
       "      <td>NaN</td>\n",
       "      <td>Joshua</td>\n",
       "      <td>6.02537E+11</td>\n",
       "    </tr>\n",
       "    <tr>\n",
       "      <th>1</th>\n",
       "      <td>AV14LG0R-jtxr-f38QfS</td>\n",
       "      <td>Lundberg</td>\n",
       "      <td>Food,Packaged Foods,Snacks,Crackers,Snacks, Co...</td>\n",
       "      <td>2017-07-25T05:16:03Z</td>\n",
       "      <td>2018-02-05T11:27:45Z</td>\n",
       "      <td>73416000391</td>\n",
       "      <td>lundbergorganiccinnamontoastricecakes/b000fvzw...</td>\n",
       "      <td>Lundberg</td>\n",
       "      <td>574764</td>\n",
       "      <td>Lundberg Organic Cinnamon Toast Rice Cakes</td>\n",
       "      <td>...</td>\n",
       "      <td>100209113.0</td>\n",
       "      <td>NaN</td>\n",
       "      <td>5</td>\n",
       "      <td>https://www.walmart.com/reviews/product/29775278</td>\n",
       "      <td>Good flavor. This review was collected as part...</td>\n",
       "      <td>Good</td>\n",
       "      <td>NaN</td>\n",
       "      <td>NaN</td>\n",
       "      <td>Dorothy W</td>\n",
       "      <td>73416000391</td>\n",
       "    </tr>\n",
       "    <tr>\n",
       "      <th>2</th>\n",
       "      <td>AV14LG0R-jtxr-f38QfS</td>\n",
       "      <td>Lundberg</td>\n",
       "      <td>Food,Packaged Foods,Snacks,Crackers,Snacks, Co...</td>\n",
       "      <td>2017-07-25T05:16:03Z</td>\n",
       "      <td>2018-02-05T11:27:45Z</td>\n",
       "      <td>73416000391</td>\n",
       "      <td>lundbergorganiccinnamontoastricecakes/b000fvzw...</td>\n",
       "      <td>Lundberg</td>\n",
       "      <td>574764</td>\n",
       "      <td>Lundberg Organic Cinnamon Toast Rice Cakes</td>\n",
       "      <td>...</td>\n",
       "      <td>100209113.0</td>\n",
       "      <td>NaN</td>\n",
       "      <td>5</td>\n",
       "      <td>https://www.walmart.com/reviews/product/29775278</td>\n",
       "      <td>Good flavor.</td>\n",
       "      <td>Good</td>\n",
       "      <td>NaN</td>\n",
       "      <td>NaN</td>\n",
       "      <td>Dorothy W</td>\n",
       "      <td>73416000391</td>\n",
       "    </tr>\n",
       "    <tr>\n",
       "      <th>3</th>\n",
       "      <td>AV16khLE-jtxr-f38VFn</td>\n",
       "      <td>K-Y</td>\n",
       "      <td>Personal Care,Medicine Cabinet,Lubricant/Sperm...</td>\n",
       "      <td>2017-07-25T16:26:19Z</td>\n",
       "      <td>2018-02-05T11:25:51Z</td>\n",
       "      <td>67981934427</td>\n",
       "      <td>kylovesensualitypleasuregel/b00u2whx8s,0679819...</td>\n",
       "      <td>K-Y</td>\n",
       "      <td>67981934427</td>\n",
       "      <td>K-Y Love Sensuality Pleasure Gel</td>\n",
       "      <td>...</td>\n",
       "      <td>113026909.0</td>\n",
       "      <td>NaN</td>\n",
       "      <td>1</td>\n",
       "      <td>https://www.walmart.com/reviews/product/43383370</td>\n",
       "      <td>I read through the reviews on here before look...</td>\n",
       "      <td>Disappointed</td>\n",
       "      <td>NaN</td>\n",
       "      <td>NaN</td>\n",
       "      <td>Rebecca</td>\n",
       "      <td>67981934427</td>\n",
       "    </tr>\n",
       "    <tr>\n",
       "      <th>4</th>\n",
       "      <td>AV16khLE-jtxr-f38VFn</td>\n",
       "      <td>K-Y</td>\n",
       "      <td>Personal Care,Medicine Cabinet,Lubricant/Sperm...</td>\n",
       "      <td>2017-07-25T16:26:19Z</td>\n",
       "      <td>2018-02-05T11:25:51Z</td>\n",
       "      <td>67981934427</td>\n",
       "      <td>kylovesensualitypleasuregel/b00u2whx8s,0679819...</td>\n",
       "      <td>K-Y</td>\n",
       "      <td>67981934427</td>\n",
       "      <td>K-Y Love Sensuality Pleasure Gel</td>\n",
       "      <td>...</td>\n",
       "      <td>171267657.0</td>\n",
       "      <td>NaN</td>\n",
       "      <td>1</td>\n",
       "      <td>https://www.walmart.com/reviews/product/43383370</td>\n",
       "      <td>My husband bought this gel for us. The gel cau...</td>\n",
       "      <td>Irritation</td>\n",
       "      <td>NaN</td>\n",
       "      <td>NaN</td>\n",
       "      <td>Walker557</td>\n",
       "      <td>67981934427</td>\n",
       "    </tr>\n",
       "  </tbody>\n",
       "</table>\n",
       "<p>5 rows × 25 columns</p>\n",
       "</div>"
      ],
      "text/plain": [
       "                     id            brand  \\\n",
       "0  AV13O1A8GV-KLJ3akUyj  Universal Music   \n",
       "1  AV14LG0R-jtxr-f38QfS         Lundberg   \n",
       "2  AV14LG0R-jtxr-f38QfS         Lundberg   \n",
       "3  AV16khLE-jtxr-f38VFn              K-Y   \n",
       "4  AV16khLE-jtxr-f38VFn              K-Y   \n",
       "\n",
       "                                          categories             dateAdded  \\\n",
       "0  Movies, Music & Books,Music,R&b,Movies & TV,Mo...  2017-07-25T00:52:42Z   \n",
       "1  Food,Packaged Foods,Snacks,Crackers,Snacks, Co...  2017-07-25T05:16:03Z   \n",
       "2  Food,Packaged Foods,Snacks,Crackers,Snacks, Co...  2017-07-25T05:16:03Z   \n",
       "3  Personal Care,Medicine Cabinet,Lubricant/Sperm...  2017-07-25T16:26:19Z   \n",
       "4  Personal Care,Medicine Cabinet,Lubricant/Sperm...  2017-07-25T16:26:19Z   \n",
       "\n",
       "            dateUpdated          ean  \\\n",
       "0  2018-02-05T08:36:58Z  6.02537E+11   \n",
       "1  2018-02-05T11:27:45Z  73416000391   \n",
       "2  2018-02-05T11:27:45Z  73416000391   \n",
       "3  2018-02-05T11:25:51Z  67981934427   \n",
       "4  2018-02-05T11:25:51Z  67981934427   \n",
       "\n",
       "                                                keys  \\\n",
       "0  602537205981,universalmusic/14331328,universal...   \n",
       "1  lundbergorganiccinnamontoastricecakes/b000fvzw...   \n",
       "2  lundbergorganiccinnamontoastricecakes/b000fvzw...   \n",
       "3  kylovesensualitypleasuregel/b00u2whx8s,0679819...   \n",
       "4  kylovesensualitypleasuregel/b00u2whx8s,0679819...   \n",
       "\n",
       "                         manufacturer manufacturerNumber  \\\n",
       "0  Universal Music Group / Cash Money           14331328   \n",
       "1                            Lundberg             574764   \n",
       "2                            Lundberg             574764   \n",
       "3                                 K-Y        67981934427   \n",
       "4                                 K-Y        67981934427   \n",
       "\n",
       "                                         name     ...        reviews.id  \\\n",
       "0   Pink Friday: Roman Reloaded Re-Up (w/dvd)     ...               NaN   \n",
       "1  Lundberg Organic Cinnamon Toast Rice Cakes     ...       100209113.0   \n",
       "2  Lundberg Organic Cinnamon Toast Rice Cakes     ...       100209113.0   \n",
       "3            K-Y Love Sensuality Pleasure Gel     ...       113026909.0   \n",
       "4            K-Y Love Sensuality Pleasure Gel     ...       171267657.0   \n",
       "\n",
       "  reviews.numHelpful reviews.rating  \\\n",
       "0                0.0              5   \n",
       "1                NaN              5   \n",
       "2                NaN              5   \n",
       "3                NaN              1   \n",
       "4                NaN              1   \n",
       "\n",
       "                                  reviews.sourceURLs  \\\n",
       "0  https://redsky.target.com/groot-domain-api/v1/...   \n",
       "1   https://www.walmart.com/reviews/product/29775278   \n",
       "2   https://www.walmart.com/reviews/product/29775278   \n",
       "3   https://www.walmart.com/reviews/product/43383370   \n",
       "4   https://www.walmart.com/reviews/product/43383370   \n",
       "\n",
       "                                        reviews.text  reviews.title  \\\n",
       "0  i love this album. it's very good. more to the...   Just Awesome   \n",
       "1  Good flavor. This review was collected as part...           Good   \n",
       "2                                       Good flavor.           Good   \n",
       "3  I read through the reviews on here before look...   Disappointed   \n",
       "4  My husband bought this gel for us. The gel cau...     Irritation   \n",
       "\n",
       "   reviews.userCity  reviews.userProvince reviews.username          upc  \n",
       "0       Los Angeles                   NaN           Joshua  6.02537E+11  \n",
       "1               NaN                   NaN        Dorothy W  73416000391  \n",
       "2               NaN                   NaN        Dorothy W  73416000391  \n",
       "3               NaN                   NaN          Rebecca  67981934427  \n",
       "4               NaN                   NaN        Walker557  67981934427  \n",
       "\n",
       "[5 rows x 25 columns]"
      ]
     },
     "execution_count": 2,
     "metadata": {},
     "output_type": "execute_result"
    }
   ],
   "source": [
    "df = pd.read_csv('data/GrammarandProductReviews.csv')\n",
    "df.head(5)"
   ]
  },
  {
   "cell_type": "code",
   "execution_count": 3,
   "metadata": {},
   "outputs": [
    {
     "data": {
      "text/html": [
       "<div>\n",
       "<style scoped>\n",
       "    .dataframe tbody tr th:only-of-type {\n",
       "        vertical-align: middle;\n",
       "    }\n",
       "\n",
       "    .dataframe tbody tr th {\n",
       "        vertical-align: top;\n",
       "    }\n",
       "\n",
       "    .dataframe thead th {\n",
       "        text-align: right;\n",
       "    }\n",
       "</style>\n",
       "<table border=\"1\" class=\"dataframe\">\n",
       "  <thead>\n",
       "    <tr style=\"text-align: right;\">\n",
       "      <th></th>\n",
       "      <th>reviews.rating</th>\n",
       "      <th>reviews.text</th>\n",
       "      <th>reviews.title</th>\n",
       "    </tr>\n",
       "  </thead>\n",
       "  <tbody>\n",
       "    <tr>\n",
       "      <th>0</th>\n",
       "      <td>5</td>\n",
       "      <td>i love this album. it's very good. more to the...</td>\n",
       "      <td>Just Awesome</td>\n",
       "    </tr>\n",
       "    <tr>\n",
       "      <th>1</th>\n",
       "      <td>5</td>\n",
       "      <td>Good flavor. This review was collected as part...</td>\n",
       "      <td>Good</td>\n",
       "    </tr>\n",
       "    <tr>\n",
       "      <th>2</th>\n",
       "      <td>5</td>\n",
       "      <td>Good flavor.</td>\n",
       "      <td>Good</td>\n",
       "    </tr>\n",
       "    <tr>\n",
       "      <th>3</th>\n",
       "      <td>1</td>\n",
       "      <td>I read through the reviews on here before look...</td>\n",
       "      <td>Disappointed</td>\n",
       "    </tr>\n",
       "    <tr>\n",
       "      <th>4</th>\n",
       "      <td>1</td>\n",
       "      <td>My husband bought this gel for us. The gel cau...</td>\n",
       "      <td>Irritation</td>\n",
       "    </tr>\n",
       "  </tbody>\n",
       "</table>\n",
       "</div>"
      ],
      "text/plain": [
       "   reviews.rating                                       reviews.text  \\\n",
       "0               5  i love this album. it's very good. more to the...   \n",
       "1               5  Good flavor. This review was collected as part...   \n",
       "2               5                                       Good flavor.   \n",
       "3               1  I read through the reviews on here before look...   \n",
       "4               1  My husband bought this gel for us. The gel cau...   \n",
       "\n",
       "  reviews.title  \n",
       "0  Just Awesome  \n",
       "1          Good  \n",
       "2          Good  \n",
       "3  Disappointed  \n",
       "4    Irritation  "
      ]
     },
     "execution_count": 3,
     "metadata": {},
     "output_type": "execute_result"
    }
   ],
   "source": [
    "df = df[['reviews.rating', 'reviews.text', 'reviews.title']]\n",
    "df.head()"
   ]
  },
  {
   "cell_type": "code",
   "execution_count": 4,
   "metadata": {},
   "outputs": [
    {
     "name": "stdout",
     "output_type": "stream",
     "text": [
      "Type of categories:  {1, 2, 3, 4, 5}\n",
      "Size of smallest category: 1833\n"
     ]
    }
   ],
   "source": [
    "# Find size of smallest category of samples\n",
    "type_categories = (set(df['reviews.rating'].values))\n",
    "print(\"Type of categories: \", type_categories)\n",
    "\n",
    "len_small = sys.maxsize\n",
    "for i in type_categories:\n",
    "    number_samples = (df[df['reviews.rating'] == i])\n",
    "    if len_small > len(number_samples):\n",
    "        len_small = len(number_samples)\n",
    "\n",
    "print(\"Size of smallest category:\", len_small)"
   ]
  },
  {
   "cell_type": "code",
   "execution_count": 5,
   "metadata": {},
   "outputs": [
    {
     "name": "stdout",
     "output_type": "stream",
     "text": [
      "Train: 1466; Test: 183; Validation: 183\n"
     ]
    }
   ],
   "source": [
    "# Train, Test, Validation\n",
    "import math\n",
    "train = math.floor(0.8 * len_small)\n",
    "test = math.floor(0.1 * len_small)\n",
    "val = math.floor(0.1 * len_small)\n",
    "print(\"Train: {}; Test: {}; Validation: {}\".format(train,test,val))"
   ]
  },
  {
   "cell_type": "code",
   "execution_count": 6,
   "metadata": {},
   "outputs": [
    {
     "data": {
      "text/html": [
       "<div>\n",
       "<style scoped>\n",
       "    .dataframe tbody tr th:only-of-type {\n",
       "        vertical-align: middle;\n",
       "    }\n",
       "\n",
       "    .dataframe tbody tr th {\n",
       "        vertical-align: top;\n",
       "    }\n",
       "\n",
       "    .dataframe thead th {\n",
       "        text-align: right;\n",
       "    }\n",
       "</style>\n",
       "<table border=\"1\" class=\"dataframe\">\n",
       "  <thead>\n",
       "    <tr style=\"text-align: right;\">\n",
       "      <th></th>\n",
       "      <th>reviews.rating</th>\n",
       "    </tr>\n",
       "  </thead>\n",
       "  <tbody>\n",
       "    <tr>\n",
       "      <th>count</th>\n",
       "      <td>9165.000000</td>\n",
       "    </tr>\n",
       "    <tr>\n",
       "      <th>mean</th>\n",
       "      <td>3.000000</td>\n",
       "    </tr>\n",
       "    <tr>\n",
       "      <th>std</th>\n",
       "      <td>1.414291</td>\n",
       "    </tr>\n",
       "    <tr>\n",
       "      <th>min</th>\n",
       "      <td>1.000000</td>\n",
       "    </tr>\n",
       "    <tr>\n",
       "      <th>25%</th>\n",
       "      <td>2.000000</td>\n",
       "    </tr>\n",
       "    <tr>\n",
       "      <th>50%</th>\n",
       "      <td>3.000000</td>\n",
       "    </tr>\n",
       "    <tr>\n",
       "      <th>75%</th>\n",
       "      <td>4.000000</td>\n",
       "    </tr>\n",
       "    <tr>\n",
       "      <th>max</th>\n",
       "      <td>5.000000</td>\n",
       "    </tr>\n",
       "  </tbody>\n",
       "</table>\n",
       "</div>"
      ],
      "text/plain": [
       "       reviews.rating\n",
       "count     9165.000000\n",
       "mean         3.000000\n",
       "std          1.414291\n",
       "min          1.000000\n",
       "25%          2.000000\n",
       "50%          3.000000\n",
       "75%          4.000000\n",
       "max          5.000000"
      ]
     },
     "execution_count": 6,
     "metadata": {},
     "output_type": "execute_result"
    }
   ],
   "source": [
    "# Building the dataset of `len_small` entries\n",
    "df_categories = [df[df['reviews.rating'] == i][0:len_small] for i in type_categories]\n",
    "new_df = pd.concat(df_categories, ignore_index=True)\n",
    "new_df.describe()"
   ]
  },
  {
   "cell_type": "code",
   "execution_count": 7,
   "metadata": {},
   "outputs": [],
   "source": [
    "# Delete all other dataframes and set df to the dataset we processed\n",
    "df = new_df\n",
    "del new_df\n",
    "del df_categories"
   ]
  },
  {
   "cell_type": "code",
   "execution_count": 8,
   "metadata": {},
   "outputs": [],
   "source": [
    "# Randomize the dataframe\n",
    "df = df.sample(frac=1.0)"
   ]
  },
  {
   "cell_type": "code",
   "execution_count": 9,
   "metadata": {},
   "outputs": [
    {
     "data": {
      "text/plain": [
       "9162"
      ]
     },
     "execution_count": 9,
     "metadata": {},
     "output_type": "execute_result"
    }
   ],
   "source": [
    "# Fixing NaN values\n",
    "nan_entries = df['reviews.text'].isnull() == True\n",
    "df.drop(df[nan_entries].index, inplace=True)\n",
    "len(df)"
   ]
  },
  {
   "cell_type": "code",
   "execution_count": 10,
   "metadata": {},
   "outputs": [],
   "source": [
    "X = df['reviews.text'].values\n",
    "Y = df['reviews.rating'].values"
   ]
  },
  {
   "cell_type": "code",
   "execution_count": 11,
   "metadata": {},
   "outputs": [
    {
     "name": "stderr",
     "output_type": "stream",
     "text": [
      "/home/kirito/anaconda3/envs/tensorflow-env/lib/python3.6/site-packages/h5py/__init__.py:36: FutureWarning: Conversion of the second argument of issubdtype from `float` to `np.floating` is deprecated. In future, it will be treated as `np.float64 == np.dtype(float).type`.\n",
      "  from ._conv import register_converters as _register_converters\n",
      "Using TensorFlow backend.\n"
     ]
    }
   ],
   "source": [
    "from keras.preprocessing.text import Tokenizer\n",
    "from keras.preprocessing.sequence import pad_sequences"
   ]
  },
  {
   "cell_type": "code",
   "execution_count": 12,
   "metadata": {},
   "outputs": [],
   "source": [
    "# Convert text to label encoding\n",
    "# 1. tokenize\n",
    "tokenizer = Tokenizer(num_words=2000, oov_token='UNKNOWN_TOKEN')\n",
    "tokenizer.fit_on_texts(X)\n",
    "X = tokenizer.texts_to_sequences(X)"
   ]
  },
  {
   "cell_type": "code",
   "execution_count": 15,
   "metadata": {},
   "outputs": [],
   "source": [
    "# Find length of sequences as histogram distribution\n",
    "len_of_sequences = []\n",
    "for seq in X:\n",
    "    len_of_sequences.append(len(seq))"
   ]
  },
  {
   "cell_type": "code",
   "execution_count": 17,
   "metadata": {},
   "outputs": [
    {
     "data": {
      "text/plain": [
       "'Most of the sequences are in the range of 0 to 90'"
      ]
     },
     "execution_count": 17,
     "metadata": {},
     "output_type": "execute_result"
    },
    {
     "data": {
      "image/png": "[encoded data removed]",
      "text/plain": [
       "<Figure size 432x288 with 1 Axes>"
      ]
     },
     "metadata": {},
     "output_type": "display_data"
    }
   ],
   "source": [
    "plt.hist(len_of_sequences)\n",
    "'''Most of the sequences are in the range of 0 to 90'''"
   ]
  },
  {
   "cell_type": "code",
   "execution_count": 18,
   "metadata": {},
   "outputs": [],
   "source": [
    "X = pad_sequences(X, maxlen=180)"
   ]
  },
  {
   "cell_type": "code",
   "execution_count": 19,
   "metadata": {},
   "outputs": [
    {
     "name": "stdout",
     "output_type": "stream",
     "text": [
      "(9162, 180)\n",
      "(9162,)\n"
     ]
    }
   ],
   "source": [
    "print(X.shape)\n",
    "print(Y.shape)"
   ]
  },
  {
   "cell_type": "markdown",
   "metadata": {},
   "source": [
    "### Building the model "
   ]
  },
  {
   "cell_type": "code",
   "execution_count": 22,
   "metadata": {},
   "outputs": [],
   "source": [
    "from keras.models import Sequential\n",
    "from keras.layers import LSTM, Dense, Embedding\n",
    "from keras.utils import to_categorical"
   ]
  },
  {
   "cell_type": "code",
   "execution_count": null,
   "metadata": {},
   "outputs": [],
   "source": []
  }
 ],
 "metadata": {
  "kernelspec": {
   "display_name": "Python 3",
   "language": "python",
   "name": "python3"
  },
  "language_info": {
   "codemirror_mode": {
    "name": "ipython",
    "version": 3
   },
   "file_extension": ".py",
   "mimetype": "text/x-python",
   "name": "python",
   "nbconvert_exporter": "python",
   "pygments_lexer": "ipython3",
   "version": "3.6.2"
  }
 },
 "nbformat": 4,
 "nbformat_minor": 2
}
